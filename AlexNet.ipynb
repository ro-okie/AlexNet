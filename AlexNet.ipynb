{
  "nbformat": 4,
  "nbformat_minor": 0,
  "metadata": {
    "colab": {
      "provenance": [],
      "authorship_tag": "ABX9TyNSx6j737/l41idopnPwo25",
      "include_colab_link": true
    },
    "kernelspec": {
      "name": "python3",
      "display_name": "Python 3"
    },
    "language_info": {
      "name": "python"
    },
    "accelerator": "GPU"
  },
  "cells": [
    {
      "cell_type": "markdown",
      "metadata": {
        "id": "view-in-github",
        "colab_type": "text"
      },
      "source": [
        "<a href=\"https://colab.research.google.com/github/ro-okie/AlexNet/blob/main/AlexNet.ipynb\" target=\"_parent\"><img src=\"https://colab.research.google.com/assets/colab-badge.svg\" alt=\"Open In Colab\"/></a>"
      ]
    },
    {
      "cell_type": "code",
      "execution_count": 1,
      "metadata": {
        "id": "WolapsXBAK-T"
      },
      "outputs": [],
      "source": [
        "import torch\n",
        "import torch.nn as nn\n",
        "from torchvision import datasets\n",
        "from torchvision import transforms\n",
        "from torch.utils.data.sampler import SubsetRandomSampler\n",
        "\n",
        "device = torch.device('cuda' if torch.cuda.is_available() else 'cpu' )"
      ]
    },
    {
      "cell_type": "code",
      "source": [
        "import numpy as np\n",
        "from torch.utils.data import DataLoader\n",
        "# preprocessing dataset and defining data loaders\n",
        "\n",
        "def get_train_valid_loader(data_dir,\n",
        "                           batch_size,\n",
        "                           augment,\n",
        "                           random_seed,\n",
        "                           valid_size = 0.1,\n",
        "                           shuffle=True\n",
        "                           ):\n",
        "  normalize = transforms.Normalize(\n",
        "      mean =[0.4914, 0.4822, 0.4465],\n",
        "       std =[0.2023, 0.1994, 0.2010]\n",
        "       )\n",
        "\n",
        "  # defining transforms for train and valid dataset partitions\n",
        "\n",
        "  valid_transform = transforms.Compose([\n",
        "      transforms.Resize((227,227)),\n",
        "      transforms.ToTensor(),\n",
        "      normalize,\n",
        "  ])\n",
        "\n",
        "  if augment:\n",
        "    train_transforms = transforms.Compose([\n",
        "        transforms.RandomCrop(32, padding=4),\n",
        "        transforms.RandomHorizontalFlip(),\n",
        "        transforms.Resize((227,227)),\n",
        "        transforms.ToTensor(),\n",
        "        normalize,\n",
        "    ])\n",
        "  else:\n",
        "    train_transforms = transforms.Compose([\n",
        "      transforms.Resize((227,227)),\n",
        "      transforms.ToTensor(),\n",
        "      normalize,\n",
        "    ])\n",
        "\n",
        "  #loading the dataset\n",
        "  train_dataset = datasets.CIFAR10(root = data_dir, train=True, download = True, transform = train_transforms)\n",
        "\n",
        "  valid_dataset = datasets.CIFAR10(root = data_dir, train = True, download = True, transform = valid_transform)\n",
        "\n",
        "\n",
        "  num_train = len(train_dataset)\n",
        "  indices = list(range(num_train))\n",
        "  split = int(np.floor(valid_size*num_train))\n",
        "\n",
        "  if shuffle:\n",
        "    np.random.seed(random_seed)\n",
        "    np.random.shuffle(indices)\n",
        "\n",
        "  train_idx, valid_idx = indices[split:], indices[:split]\n",
        "  train_sampler = SubsetRandomSampler(train_idx)\n",
        "  valid_sampler = SubsetRandomSampler(valid_idx)\n",
        "\n",
        "  train_loader = DataLoader(dataset = train_dataset, batch_size = batch_size, sampler = train_sampler)\n",
        "  valid_loader = DataLoader(dataset = valid_dataset, batch_size = batch_size, sampler = valid_sampler)\n",
        "\n",
        "  return (train_loader, valid_loader)\n",
        "\n",
        "\n",
        "\n",
        "def get_test_loader(data_dir,\n",
        "                    batch_size,\n",
        "                    shuffle=True):\n",
        "    normalize = transforms.Normalize(\n",
        "        mean=[0.485, 0.456, 0.406],\n",
        "        std=[0.229, 0.224, 0.225],\n",
        "    )\n",
        "\n",
        "    # define transform\n",
        "    transform = transforms.Compose([\n",
        "        transforms.Resize((227,227)),\n",
        "        transforms.ToTensor(),\n",
        "        normalize,\n",
        "    ])\n",
        "\n",
        "    dataset = datasets.CIFAR10(\n",
        "        root=data_dir, train=False,\n",
        "        download=True, transform=transform,\n",
        "    )\n",
        "\n",
        "    data_loader = torch.utils.data.DataLoader(\n",
        "        dataset, batch_size=batch_size, shuffle=shuffle\n",
        "    )\n",
        "\n",
        "    return data_loader\n",
        "\n",
        "\n",
        "\n",
        "train_loader, valid_loader = get_train_valid_loader(data_dir = './data',\n",
        "                                                    batch_size = 64,\n",
        "                                                    augment = True,\n",
        "                                                    random_seed = 1)\n",
        "\n",
        "test_loader = get_test_loader(data_dir = './data',\n",
        "                              batch_size = 64)\n"
      ],
      "metadata": {
        "colab": {
          "base_uri": "https://localhost:8080/"
        },
        "id": "z4UB712CBGxQ",
        "outputId": "8f906163-1e90-458f-8ab3-6d1a1d483b98"
      },
      "execution_count": 26,
      "outputs": [
        {
          "output_type": "stream",
          "name": "stdout",
          "text": [
            "Files already downloaded and verified\n",
            "Files already downloaded and verified\n",
            "Files already downloaded and verified\n"
          ]
        }
      ]
    },
    {
      "cell_type": "code",
      "source": [
        "class AlexNet(nn.Module):\n",
        "  def __init__(self, num_classes=10):\n",
        "    super().__init__()\n",
        "\n",
        "    self.layer1 = nn.Sequential(\n",
        "        nn.Conv2d(3, 96, kernel_size = 11, stride = 4, padding = 0),\n",
        "        nn.BatchNorm2d(96),\n",
        "        nn.ReLU(),\n",
        "        nn.MaxPool2d(kernel_size = 3, stride = 2)\n",
        "    )\n",
        "\n",
        "    self.layer2 = nn.Sequential(\n",
        "        nn.Conv2d(96, 256, kernel_size = 5, stride = 1, padding = 2),\n",
        "        nn.BatchNorm2d(256),\n",
        "        nn.ReLU(),\n",
        "        nn.MaxPool2d(kernel_size = 3, stride = 2)\n",
        "    )\n",
        "\n",
        "    self.layer3 = nn.Sequential(\n",
        "        nn.Conv2d(256, 384, kernel_size = 3, stride = 1, padding = 1 ),\n",
        "        nn.BatchNorm2d(384),\n",
        "        nn.ReLU()\n",
        "        #no pooling here\n",
        "    )\n",
        "\n",
        "    self.layer4 = nn.Sequential(\n",
        "        nn.Conv2d(384, 384, kernel_size = 3, stride = 1, padding = 1),\n",
        "        nn.BatchNorm2d(384),\n",
        "        nn.ReLU()\n",
        "        #again no pooling\n",
        "    )\n",
        "\n",
        "    self.layer5 = nn.Sequential(\n",
        "        nn.Conv2d(384, 256, kernel_size = 3, stride = 1, padding = 1),\n",
        "        nn.BatchNorm2d(256),\n",
        "        nn.ReLU(),\n",
        "        nn.MaxPool2d(kernel_size = 3, stride = 2)\n",
        "    )\n",
        "\n",
        "\n",
        "    self.fc1 = nn.Sequential(\n",
        "        nn.Dropout(0.5),\n",
        "        nn.Linear(9216, 4096),\n",
        "        nn.ReLU()\n",
        "    )\n",
        "\n",
        "    self.fc2 = nn.Sequential(\n",
        "        nn.Dropout(0.5),\n",
        "        nn.Linear(4096, 4096),\n",
        "        nn.ReLU()\n",
        "    )\n",
        "\n",
        "    self.fc3 = nn.Sequential(\n",
        "        nn.Linear(4096, num_classes)\n",
        "    )\n",
        "\n",
        "\n",
        "  def forward(self, x):\n",
        "    out = self.layer1(x)\n",
        "    out = self.layer2(out)\n",
        "    out = self.layer3(out)\n",
        "    out = self.layer4(out)\n",
        "    out = self.layer5(out)\n",
        "    out = out.reshape(out.size(0),-1)\n",
        "    out = self.fc1(out)\n",
        "    out = self.fc2(out)\n",
        "    out = self.fc3(out)\n",
        "    return out\n"
      ],
      "metadata": {
        "id": "1JTKAZ3nHSQy"
      },
      "execution_count": 27,
      "outputs": []
    },
    {
      "cell_type": "code",
      "source": [
        "# defining relevant variables\n",
        "num_classes = 10 \n",
        "batch_size = 64\n",
        "learning_rate = 0.001\n",
        "num_epochs = 20"
      ],
      "metadata": {
        "id": "w0aA85qQSSpK"
      },
      "execution_count": 28,
      "outputs": []
    },
    {
      "cell_type": "code",
      "source": [
        "# defining and setting the hyperparameters \n",
        "model = AlexNet(num_classes).to(device)\n",
        "\n",
        "loss_fn = nn.CrossEntropyLoss()\n",
        "\n",
        "optimizer = torch.optim.SGD(model.parameters(), lr = learning_rate, weight_decay = 0.005, momentum = 0.9)\n",
        "\n",
        "total_steps = len(train_loader)"
      ],
      "metadata": {
        "id": "EAywYCatSIY-"
      },
      "execution_count": 29,
      "outputs": []
    },
    {
      "cell_type": "code",
      "source": [
        "for epoch in  range(num_epochs):\n",
        "  for i, (image, label) in enumerate(train_loader):\n",
        "    image = image.to(device)\n",
        "    label = label.to(device)\n",
        "\n",
        "    #forward pass:\n",
        "\n",
        "    output = model(image)\n",
        "\n",
        "    loss = loss_fn(output, label)\n",
        "\n",
        "\n",
        "    #backward pass:\n",
        "\n",
        "    loss.backward()\n",
        "\n",
        "    optimizer.step()\n",
        "\n",
        "    optimizer.zero_grad()\n",
        "  print ('Epoch [{}/{}], Step [{}/{}], Loss: {:.4f}' \n",
        "                   .format(epoch+1, num_epochs, i+1, total_steps, loss.item()))\n",
        "  \n",
        "  # validation \n",
        "  with torch.no_grad():\n",
        "    correct = 0\n",
        "    total = 0\n",
        "\n",
        "    for images, labels in valid_loader:\n",
        "\n",
        "      images = images.to(device)\n",
        "      labels = labels.to(device)\n",
        "\n",
        "      output = model(images)\n",
        "\n",
        "      \n",
        "\n",
        "      _, predicted = torch.max(output.data, 1)\n",
        "\n",
        "      total += labels.size(0)\n",
        "      correct += (predicted==labels).sum().item()\n",
        "\n",
        "      del images, labels, output\n",
        "    print('Accuracy of the network on the {} validation images: {} %'.format(5000, 100 * correct / total))  \n"
      ],
      "metadata": {
        "colab": {
          "base_uri": "https://localhost:8080/"
        },
        "id": "6Av87NegSuzk",
        "outputId": "668bca4c-b6ca-4bed-c72c-de03f2dba3cf"
      },
      "execution_count": 34,
      "outputs": [
        {
          "output_type": "stream",
          "name": "stdout",
          "text": [
            "Epoch [1/20], Step [704/704], Loss: 0.6249\n",
            "Accuracy of the network on the 5000 validation images: 69.04 %\n",
            "Epoch [2/20], Step [704/704], Loss: 0.8409\n",
            "Accuracy of the network on the 5000 validation images: 71.88 %\n",
            "Epoch [3/20], Step [704/704], Loss: 0.4760\n",
            "Accuracy of the network on the 5000 validation images: 73.56 %\n",
            "Epoch [4/20], Step [704/704], Loss: 0.5386\n",
            "Accuracy of the network on the 5000 validation images: 75.44 %\n",
            "Epoch [5/20], Step [704/704], Loss: 0.3122\n",
            "Accuracy of the network on the 5000 validation images: 76.6 %\n",
            "Epoch [6/20], Step [704/704], Loss: 1.2731\n",
            "Accuracy of the network on the 5000 validation images: 78.52 %\n",
            "Epoch [7/20], Step [704/704], Loss: 0.7603\n",
            "Accuracy of the network on the 5000 validation images: 78.3 %\n",
            "Epoch [8/20], Step [704/704], Loss: 0.9179\n",
            "Accuracy of the network on the 5000 validation images: 78.34 %\n",
            "Epoch [9/20], Step [704/704], Loss: 0.4815\n",
            "Accuracy of the network on the 5000 validation images: 79.56 %\n",
            "Epoch [10/20], Step [704/704], Loss: 0.3826\n",
            "Accuracy of the network on the 5000 validation images: 80.64 %\n",
            "Epoch [11/20], Step [704/704], Loss: 0.9978\n",
            "Accuracy of the network on the 5000 validation images: 80.76 %\n",
            "Epoch [12/20], Step [704/704], Loss: 0.9717\n",
            "Accuracy of the network on the 5000 validation images: 80.92 %\n",
            "Epoch [13/20], Step [704/704], Loss: 1.0047\n",
            "Accuracy of the network on the 5000 validation images: 81.82 %\n",
            "Epoch [14/20], Step [704/704], Loss: 0.4595\n",
            "Accuracy of the network on the 5000 validation images: 82.82 %\n",
            "Epoch [15/20], Step [704/704], Loss: 0.4850\n",
            "Accuracy of the network on the 5000 validation images: 81.28 %\n",
            "Epoch [16/20], Step [704/704], Loss: 0.8389\n",
            "Accuracy of the network on the 5000 validation images: 82.52 %\n",
            "Epoch [17/20], Step [704/704], Loss: 0.8600\n",
            "Accuracy of the network on the 5000 validation images: 83.0 %\n",
            "Epoch [18/20], Step [704/704], Loss: 0.3272\n",
            "Accuracy of the network on the 5000 validation images: 82.86 %\n",
            "Epoch [19/20], Step [704/704], Loss: 1.8521\n",
            "Accuracy of the network on the 5000 validation images: 82.64 %\n",
            "Epoch [20/20], Step [704/704], Loss: 0.5146\n",
            "Accuracy of the network on the 5000 validation images: 83.66 %\n"
          ]
        }
      ]
    },
    {
      "cell_type": "code",
      "source": [
        "#testing our model performance on test dataset :\n",
        "with torch.no_grad():\n",
        "  correct = 0\n",
        "  total = 0\n",
        "  for images, labels in test_loader:\n",
        "    images = images.to(device)\n",
        "    labels = labels.to(device)\n",
        "\n",
        "    output  = model(images)\n",
        "\n",
        "    _, predicted = torch.max(output.data, 1)\n",
        "\n",
        "    total += labels.size(0)\n",
        "    correct += (predicted==labels).sum().item()\n",
        "\n",
        "  print('Accuracy of the network on the {} test images: {} %'.format(10000, 100 * correct / total))  "
      ],
      "metadata": {
        "colab": {
          "base_uri": "https://localhost:8080/"
        },
        "id": "cC2VtqvKTvvt",
        "outputId": "42737faa-e0c2-41a9-87e2-cd9e2a37b6a7"
      },
      "execution_count": 35,
      "outputs": [
        {
          "output_type": "stream",
          "name": "stdout",
          "text": [
            "Accuracy of the network on the 10000 test images: 83.85 %\n"
          ]
        }
      ]
    },
    {
      "cell_type": "code",
      "source": [],
      "metadata": {
        "id": "bqHljMbXXtGF"
      },
      "execution_count": null,
      "outputs": []
    }
  ]
}